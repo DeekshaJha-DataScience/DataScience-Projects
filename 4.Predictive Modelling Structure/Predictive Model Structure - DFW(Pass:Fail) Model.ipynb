{
 "cells": [
  {
   "cell_type": "markdown",
   "metadata": {},
   "source": [
    "Project Objective : Define a structure for predictive modelling projects"
   ]
  },
  {
   "cell_type": "markdown",
   "metadata": {},
   "source": [
    "## Problem Statement :\n",
    "Need to classify students who fail(DFW grades) or pass\n",
    "## Dataset :\n",
    "Pre Survey information, Demographics etc for students in last three years who have taken courses of interest\n",
    "## Approach :\n",
    "### Steps \n",
    "1. Importing all required Libraries\n",
    "2. Reading & Cleaning Dataset\n",
    "3. Converting categorical variables to numeric variables\n",
    "4. Train-test split\n",
    "5. Nested cross validation with grid search\n",
    "6. Final test score with the selected classification model\n"
   ]
  },
  {
   "cell_type": "raw",
   "metadata": {},
   "source": [
    "### 1.Importing all Required Libraries"
   ]
  },
  {
   "cell_type": "code",
   "execution_count": 4,
   "metadata": {},
   "outputs": [],
   "source": [
    "%matplotlib inline\n",
    "##pandas,numpy \n",
    "import numpy as np\n",
    "import pandas as pd\n",
    "\n",
    "## for plotting \n",
    "import matplotlib.pyplot as plt\n",
    "\n",
    "##for datetime functions\n",
    "from datetime import datetime\n",
    "from dateutil.parser import parse\n",
    "\n",
    "## for different classification algorithms\n",
    "from sklearn import tree\n",
    "from sklearn.model_selection import cross_val_score, train_test_split\n",
    "from sklearn.metrics import classification_report, confusion_matrix, accuracy_score\n",
    "from sklearn.model_selection import GridSearchCV, cross_val_score, KFold\n",
    "from sklearn.linear_model import LogisticRegression\n",
    "import sklearn\n",
    "import warnings\n",
    "warnings.filterwarnings(\"ignore\")\n"
   ]
  },
  {
   "cell_type": "code",
   "execution_count": 5,
   "metadata": {},
   "outputs": [
    {
     "data": {
      "text/plain": [
       "'0.20.2'"
      ]
     },
     "execution_count": 5,
     "metadata": {},
     "output_type": "execute_result"
    }
   ],
   "source": [
    "sklearn.__version__"
   ]
  },
  {
   "cell_type": "markdown",
   "metadata": {},
   "source": [
    "### 2. Reading & Cleaning Dataset"
   ]
  },
  {
   "cell_type": "code",
   "execution_count": 7,
   "metadata": {},
   "outputs": [],
   "source": [
    "## change location based on data \n",
    "data1 = pd.read_csv(\"{File Location}\")\n"
   ]
  },
  {
   "cell_type": "code",
   "execution_count": 1,
   "metadata": {},
   "outputs": [],
   "source": [
    "#view the data\n",
    "data1.head()"
   ]
  },
  {
   "cell_type": "code",
   "execution_count": 8,
   "metadata": {},
   "outputs": [],
   "source": [
    "#Adding new columns - pass/fail column\n",
    "data1.columns\n"
   ]
  },
  {
   "cell_type": "code",
   "execution_count": 6,
   "metadata": {},
   "outputs": [
    {
     "data": {
      "text/plain": [
       "array(['C', 'F', 'S', 'A', 'W', 'B-', 'C+', 'D+', 'A-', 'C-', 'B', 'B+',\n",
       "       'D', 'N', 'I'], dtype=object)"
      ]
     },
     "execution_count": 6,
     "metadata": {},
     "output_type": "execute_result"
    }
   ],
   "source": [
    "pd.unique(data1[\"CRSE_GRADE_OFF\"])\n",
    "#data1.loc[:,[\"CRSE_GRADE_OFF\",\"DFW\"]]"
   ]
  },
  {
   "cell_type": "code",
   "execution_count": 7,
   "metadata": {},
   "outputs": [],
   "source": [
    "## Seeting DFW target column\n",
    "data1[\"DFW\"]= np.where(data1['CRSE_GRADE_OFF'].isin(['D','F','W','I','N']), '1', '0')"
   ]
  },
  {
   "cell_type": "code",
   "execution_count": 8,
   "metadata": {},
   "outputs": [],
   "source": [
    "## New columns for final time and scores\n",
    "##Converting NaNs to 0\n",
    "#data1[\"TIME_1\"].fillna(0)\n",
    "data1 = data1.replace(r'\\s+', np.nan, regex=True)"
   ]
  },
  {
   "cell_type": "code",
   "execution_count": 9,
   "metadata": {},
   "outputs": [],
   "source": [
    "data1[\"time\"] = data1[\"TIME\"].fillna(0) + data1[\"TIME_1\"].fillna(0)\n",
    "data1[\"INITIAL_TIME\"]= data1[\"INITIAL_TIME\"].fillna(0) \n",
    "data1[\"INITIAL_SCORE\"] =data1[\"INITIAL_SCORE\"].fillna(0) \n",
    "#pd.unique(data1[\"INITIAL_TIME_1\"]) and score_ 1 are only Nan"
   ]
  },
  {
   "cell_type": "code",
   "execution_count": 10,
   "metadata": {},
   "outputs": [],
   "source": [
    "newData = data1.loc[:,[<all required columns>]]\n"
   ]
  },
  {
   "cell_type": "markdown",
   "metadata": {},
   "source": [
    "### 3. Converting categorical variables to numeric variables"
   ]
  },
  {
   "cell_type": "code",
   "execution_count": 11,
   "metadata": {},
   "outputs": [],
   "source": [
    "## converting categorical features into dummy variables\n",
    "#newData_Selected = newData\n",
    "#getting categorical features\n",
    "#cat_features = [col for col in newData_Selected.columns if col not in newData_Selected.select_dtypes(['int64','float64']).columns ] \n",
    "#numeric_features = [col for col in newData_Selected.columns if col in (newData_Selected.select_dtypes(['int64','float64']) ).columns ] \n",
    "\n",
    "numeric_features = [<all numerical features>]\n",
    "cat_features =[<all categorical features>]"
   ]
  },
  {
   "cell_type": "code",
   "execution_count": null,
   "metadata": {},
   "outputs": [],
   "source": [
    "##convert categorical into numerical value\n",
    "for feat in cat_features:\n",
    "    newData.loc[:,feat] = newData.loc[:,feat].astype(\"category\").cat.codes\n",
    "newData = newData.fillna(0)\n",
    "#newData.sample(5)"
   ]
  },
  {
   "cell_type": "code",
   "execution_count": 15,
   "metadata": {},
   "outputs": [],
   "source": [
    "newData = newData.convert_objects(convert_numeric=True)"
   ]
  },
  {
   "cell_type": "markdown",
   "metadata": {},
   "source": [
    "### 4. Train-test split"
   ]
  },
  {
   "cell_type": "code",
   "execution_count": 16,
   "metadata": {},
   "outputs": [
    {
     "name": "stdout",
     "output_type": "stream",
     "text": [
      "(43626, 17) (18698, 17)\n"
     ]
    }
   ],
   "source": [
    "#Splitting data into test(20%) & train (80%)\n",
    "y = np.asarray(newData.loc[:,\"DFW\"])\n",
    "x = newData.loc[:, newData.columns != \"DFW\"]\n",
    "\n",
    "X_train, X_test, y_train, y_test = train_test_split(x, y, test_size=0.3, random_state=42)\n",
    "print(X_train.shape, X_test.shape)"
   ]
  },
  {
   "cell_type": "markdown",
   "metadata": {},
   "source": [
    "### 5. Nested cross validation with grid search"
   ]
  },
  {
   "cell_type": "markdown",
   "metadata": {},
   "source": [
    "We want to build different models and compare different algorithms (XGBoost vs. logistic regression vs. Random Forests)\n",
    "Therefore, we are using nested cross-validation. In nested cross-validation, we have an outer k-fold cross-validation loop to split the data into training and test folds, and an inner loop is used to select the model via k-fold cross-validation on the training fold. After model selection, the test fold is then used to evaluate the model performance. After we have identified our “favorite” algorithm, we can follow-up with a “regular” k-fold cross-validation approach (on the complete training set) to find its “optimal” hyperparameters and evaluate it on the independent test set."
   ]
  },
  {
   "cell_type": "code",
   "execution_count": 39,
   "metadata": {},
   "outputs": [
    {
     "name": "stdout",
     "output_type": "stream",
     "text": [
      "LogisticRegression(C=1.0, class_weight=None, dual=False, fit_intercept=True,\n",
      "          intercept_scaling=1, max_iter=100, multi_class='ovr', n_jobs=1,\n",
      "          penalty='l2', random_state=None, solver='liblinear', tol=0.0001,\n",
      "          verbose=0, warm_start=False)\n",
      "[0.87234674 0.87214057 0.87230089 0.87273643 0.87236967]\n",
      "Average scores of 0.872379 with std. dev. of 0.000196.\n"
     ]
    }
   ],
   "source": [
    "##Logistic Regression\n",
    "from sklearn.linear_model import LogisticRegression\n",
    "\n",
    "# Set the parameters by cross-validation\n",
    "# logistic regression\n",
    "tuned_parameters = {\"C\":np.logspace(-5,6), \"penalty\":[\"l1\",\"l2\"]}\n",
    "\n",
    "\n",
    "\n",
    "NUM_TRIALS = 5;\n",
    "\n",
    "nested_scores= np.zeros(NUM_TRIALS)\n",
    "for i in range(NUM_TRIALS):\n",
    "    inner_cv = KFold(n_splits=4, shuffle=True, random_state=i)\n",
    "    outer_cv = KFold(n_splits=4, shuffle=True, random_state=i)\n",
    "\n",
    "    # Non_nested parameter search and scoring\n",
    "    clf_linear = GridSearchCV(estimator = LogisticRegression(), param_grid=tuned_parameters, cv=inner_cv, scoring = 'accuracy')\n",
    "    clf_linear.fit(X_train,y_train)\n",
    "\n",
    "\n",
    "# Nested CV with parameter optimization\n",
    "    nested_score = cross_val_score(clf_linear, X_train,y_train, cv=outer_cv,scoring='accuracy')\n",
    "    nested_scores[i] = nested_score.mean()\n",
    "    \n",
    "print(clf_linear.estimator)\n",
    "print(nested_scores)\n",
    "print(\"Average scores of {0:6f} with std. dev. of {1:6f}.\".format(nested_scores.mean(), nested_scores.std()))"
   ]
  },
  {
   "cell_type": "code",
   "execution_count": 34,
   "metadata": {},
   "outputs": [
    {
     "name": "stdout",
     "output_type": "stream",
     "text": [
      "XGBClassifier(base_score=0.5, booster='gbtree', colsample_bylevel=1,\n",
      "       colsample_bytree=1, gamma=0, learning_rate=0.1, max_delta_step=0,\n",
      "       max_depth=1000, min_child_weight=1, missing=None, n_estimators=100,\n",
      "       n_jobs=1, nthread=None, objective='binary:logistic', random_state=0,\n",
      "       reg_alpha=0, reg_lambda=1, scale_pos_weight=1, seed=None,\n",
      "       silent=True, subsample=1)\n",
      "[0.88066753 0.88124063 0.88135507 0.8815156  0.88078218]\n",
      "Average scores of 0.881112 with std. dev. of 0.000330.\n"
     ]
    }
   ],
   "source": [
    "## XGBoost\n",
    "from xgboost import XGBClassifier\n",
    "\n",
    "# Set the parameters by cross-validation\n",
    "\n",
    "tuned_parameters = {\"objective\": [\"binary:logistic\"],\n",
    "          \"booster\": [\"gbtree\"],\n",
    "          \"learning_rate\": [0.02],\n",
    "          \"max_depth\": [5],\n",
    "          \"min_child_weight\": [5]}\n",
    "num_boost_round = 1000\n",
    "\n",
    "\n",
    "\n",
    "NUM_TRIALS = 5;\n",
    "\n",
    "nested_scores= np.zeros(NUM_TRIALS)\n",
    "for i in range(NUM_TRIALS):\n",
    "    inner_cv = KFold(n_splits=4, shuffle=True, random_state=i)\n",
    "    outer_cv = KFold(n_splits=4, shuffle=True, random_state=i)\n",
    "\n",
    "    # Non_nested parameter search and scoring\n",
    "    clf_xgB = GridSearchCV(estimator = XGBClassifier(num_boost_round), param_grid=tuned_parameters, cv=inner_cv, scoring = 'accuracy')\n",
    "    clf_xgB.fit(X_train,y_train)\n",
    "\n",
    "\n",
    "# Nested CV with parameter optimization\n",
    "    nested_score = cross_val_score(clf_xgB,X_train,y_train, cv=outer_cv,scoring='accuracy')\n",
    "    nested_scores[i] = nested_score.mean()\n",
    "    \n",
    "print(clf_xgB.estimator)\n",
    "print(nested_scores)\n",
    "print(\"Average scores of {0:6f} with std. dev. of {1:6f}.\".format(nested_scores.mean(), nested_scores.std()))"
   ]
  },
  {
   "cell_type": "code",
   "execution_count": 18,
   "metadata": {},
   "outputs": [
    {
     "name": "stdout",
     "output_type": "stream",
     "text": [
      "RandomForestClassifier(bootstrap=True, class_weight=None, criterion='gini',\n",
      "            max_depth=None, max_features='auto', max_leaf_nodes=None,\n",
      "            min_impurity_decrease=0.0, min_impurity_split=None,\n",
      "            min_samples_leaf=1, min_samples_split=2,\n",
      "            min_weight_fraction_leaf=0.0, n_estimators='warn', n_jobs=None,\n",
      "            oob_score=False, random_state=None, verbose=0,\n",
      "            warm_start=False)\n",
      "[0.99420069 0.99557604 0.99406317 0.99546141 0.99518638]\n",
      "Average scores of 0.994898 with std. dev. of 0.000639.\n"
     ]
    }
   ],
   "source": [
    "## Random Forest\n",
    "\n",
    "from sklearn.ensemble import RandomForestClassifier\n",
    "\n",
    "n_estimators = [10, 50]\n",
    "max_depth = [10, 20]\n",
    "\n",
    "tuned_parameters=dict(n_estimators=n_estimators,max_depth = max_depth)\n",
    "\n",
    "NUM_TRIALS = 5;\n",
    "\n",
    "nested_scores= np.zeros(NUM_TRIALS)\n",
    "for i in range(NUM_TRIALS):\n",
    "    inner_cv = KFold(n_splits=4, shuffle=True, random_state=i)\n",
    "    outer_cv = KFold(n_splits=4, shuffle=True, random_state=i)\n",
    "\n",
    "    # Non_nested parameter search and scoring\n",
    "    clf_rf = GridSearchCV(estimator = RandomForestClassifier(), param_grid=tuned_parameters, cv=inner_cv, scoring = 'accuracy')\n",
    "    clf_rf.fit(X_train,y_train)\n",
    "\n",
    "\n",
    "# Nested CV with parameter optimization\n",
    "    nested_score = cross_val_score(clf_rf,X_train,y_train, cv=outer_cv,scoring='accuracy')\n",
    "    nested_scores[i] = nested_score.mean()\n",
    "    \n",
    "print(clf_rf.estimator)\n",
    "print(nested_scores)\n",
    "print(\"Average scores of {0:6f} with std. dev. of {1:6f}.\".format(nested_scores.mean(), nested_scores.std()))"
   ]
  },
  {
   "cell_type": "code",
   "execution_count": 19,
   "metadata": {},
   "outputs": [
    {
     "data": {
      "text/html": [
       "<div>\n",
       "<style scoped>\n",
       "    .dataframe tbody tr th:only-of-type {\n",
       "        vertical-align: middle;\n",
       "    }\n",
       "\n",
       "    .dataframe tbody tr th {\n",
       "        vertical-align: top;\n",
       "    }\n",
       "\n",
       "    .dataframe thead th {\n",
       "        text-align: right;\n",
       "    }\n",
       "</style>\n",
       "<table border=\"1\" class=\"dataframe\">\n",
       "  <thead>\n",
       "    <tr style=\"text-align: right;\">\n",
       "      <th></th>\n",
       "      <th>importance</th>\n",
       "    </tr>\n",
       "  </thead>\n",
       "  <tbody>\n",
       "    <tr>\n",
       "      <th>time</th>\n",
       "      <td>0.130219</td>\n",
       "    </tr>\n",
       "    <tr>\n",
       "      <th>INITIAL_TIME</th>\n",
       "      <td>0.120178</td>\n",
       "    </tr>\n",
       "    <tr>\n",
       "      <th>CHEM_SCORE</th>\n",
       "      <td>0.104903</td>\n",
       "    </tr>\n",
       "    <tr>\n",
       "      <th>INITIAL_SCORE</th>\n",
       "      <td>0.095930</td>\n",
       "    </tr>\n",
       "    <tr>\n",
       "      <th>COMP_ACT_SCORE</th>\n",
       "      <td>0.092835</td>\n",
       "    </tr>\n",
       "    <tr>\n",
       "      <th>TOT_TRNSFR</th>\n",
       "      <td>0.090057</td>\n",
       "    </tr>\n",
       "    <tr>\n",
       "      <th>HS_RANK_PCT</th>\n",
       "      <td>0.073392</td>\n",
       "    </tr>\n",
       "    <tr>\n",
       "      <th>CATALOG_NBR</th>\n",
       "      <td>0.070616</td>\n",
       "    </tr>\n",
       "    <tr>\n",
       "      <th>INSTRUCTION_MODE</th>\n",
       "      <td>0.039446</td>\n",
       "    </tr>\n",
       "    <tr>\n",
       "      <th>ACAD_PROG_SDESC</th>\n",
       "      <td>0.036686</td>\n",
       "    </tr>\n",
       "    <tr>\n",
       "      <th>ETHNIC_GROUP</th>\n",
       "      <td>0.035055</td>\n",
       "    </tr>\n",
       "    <tr>\n",
       "      <th>CITIZENSHIP_STATUS</th>\n",
       "      <td>0.025992</td>\n",
       "    </tr>\n",
       "    <tr>\n",
       "      <th>REG_STA</th>\n",
       "      <td>0.022404</td>\n",
       "    </tr>\n",
       "    <tr>\n",
       "      <th>TERM</th>\n",
       "      <td>0.021215</td>\n",
       "    </tr>\n",
       "    <tr>\n",
       "      <th>SEX</th>\n",
       "      <td>0.020523</td>\n",
       "    </tr>\n",
       "    <tr>\n",
       "      <th>TOTAL_SATR_SCORE</th>\n",
       "      <td>0.013539</td>\n",
       "    </tr>\n",
       "    <tr>\n",
       "      <th>TOTAL_SAT_SCORE</th>\n",
       "      <td>0.007010</td>\n",
       "    </tr>\n",
       "  </tbody>\n",
       "</table>\n",
       "</div>"
      ],
      "text/plain": [
       "                    importance\n",
       "time                  0.130219\n",
       "INITIAL_TIME          0.120178\n",
       "CHEM_SCORE            0.104903\n",
       "INITIAL_SCORE         0.095930\n",
       "COMP_ACT_SCORE        0.092835\n",
       "TOT_TRNSFR            0.090057\n",
       "HS_RANK_PCT           0.073392\n",
       "CATALOG_NBR           0.070616\n",
       "INSTRUCTION_MODE      0.039446\n",
       "ACAD_PROG_SDESC       0.036686\n",
       "ETHNIC_GROUP          0.035055\n",
       "CITIZENSHIP_STATUS    0.025992\n",
       "REG_STA               0.022404\n",
       "TERM                  0.021215\n",
       "SEX                   0.020523\n",
       "TOTAL_SATR_SCORE      0.013539\n",
       "TOTAL_SAT_SCORE       0.007010"
      ]
     },
     "execution_count": 19,
     "metadata": {},
     "output_type": "execute_result"
    }
   ],
   "source": [
    "### Feature Importance\n",
    "### reference https://towardsdatascience.com/running-random-forests-inspect-the-feature-importances-with-this-code-2b00dd72b92e\n",
    "feature_importances = pd.DataFrame(clf_rf.best_estimator_.feature_importances_,\n",
    "                                   index = X_train.columns,\n",
    "                                    columns=['importance']).sort_values('importance',ascending=False)\n",
    "feature_importances\n"
   ]
  },
  {
   "cell_type": "markdown",
   "metadata": {},
   "source": [
    "## 6. Final test score with the selected classification model"
   ]
  },
  {
   "cell_type": "markdown",
   "metadata": {},
   "source": [
    "Since Random Forest gave best accuracy, we use a k-fold cross-validation approach on the complete training set to find its optimal hyperparameters and evaluate it on the independent test set."
   ]
  },
  {
   "cell_type": "code",
   "execution_count": 20,
   "metadata": {},
   "outputs": [
    {
     "name": "stdout",
     "output_type": "stream",
     "text": [
      "Test Accuracy : 0.9977002888009413\n",
      "Model Used : RandomForestClassifier(bootstrap=True, class_weight=None, criterion='gini',\n",
      "            max_depth=20, max_features='auto', max_leaf_nodes=None,\n",
      "            min_impurity_decrease=0.0, min_impurity_split=None,\n",
      "            min_samples_leaf=1, min_samples_split=2,\n",
      "            min_weight_fraction_leaf=0.0, n_estimators=50, n_jobs=None,\n",
      "            oob_score=False, random_state=None, verbose=0,\n",
      "            warm_start=False)\n"
     ]
    }
   ],
   "source": [
    "## Cross validation  ## After model selection\n",
    "sclf = RandomForestClassifier()\n",
    "n_estimators = [10, 50]\n",
    "max_depth = [10, 20]\n",
    "\n",
    "tuned_parameters=dict(n_estimators=n_estimators,max_depth = max_depth)\n",
    "\n",
    "clf_final = GridSearchCV(estimator=RandomForestClassifier(), param_grid=tuned_parameters, cv=5)\n",
    "model = clf_final.fit(X_train,y_train)\n",
    "be = clf_final.best_estimator_\n",
    "#fitting it on train data \n",
    "be.fit(X_train,y_train)\n",
    "#predicting on test data \n",
    "y_true, y_pred = y_test, be.predict(X_test)\n",
    "# finding accuracy  \n",
    "test_accuracy = accuracy_score(y_true, y_pred)\n",
    "print(\"Test Accuracy :\", test_accuracy)\n",
    "#model details\n",
    "print(\"Model Used :\",be)\n"
   ]
  },
  {
   "cell_type": "code",
   "execution_count": 21,
   "metadata": {},
   "outputs": [
    {
     "data": {
      "text/html": [
       "<div>\n",
       "<style scoped>\n",
       "    .dataframe tbody tr th:only-of-type {\n",
       "        vertical-align: middle;\n",
       "    }\n",
       "\n",
       "    .dataframe tbody tr th {\n",
       "        vertical-align: top;\n",
       "    }\n",
       "\n",
       "    .dataframe thead th {\n",
       "        text-align: right;\n",
       "    }\n",
       "</style>\n",
       "<table border=\"1\" class=\"dataframe\">\n",
       "  <thead>\n",
       "    <tr style=\"text-align: right;\">\n",
       "      <th></th>\n",
       "      <th>importance</th>\n",
       "    </tr>\n",
       "  </thead>\n",
       "  <tbody>\n",
       "    <tr>\n",
       "      <th>time</th>\n",
       "      <td>0.133469</td>\n",
       "    </tr>\n",
       "    <tr>\n",
       "      <th>INITIAL_TIME</th>\n",
       "      <td>0.118352</td>\n",
       "    </tr>\n",
       "    <tr>\n",
       "      <th>CHEM_SCORE</th>\n",
       "      <td>0.108135</td>\n",
       "    </tr>\n",
       "    <tr>\n",
       "      <th>COMP_ACT_SCORE</th>\n",
       "      <td>0.093234</td>\n",
       "    </tr>\n",
       "    <tr>\n",
       "      <th>INITIAL_SCORE</th>\n",
       "      <td>0.092719</td>\n",
       "    </tr>\n",
       "    <tr>\n",
       "      <th>TOT_TRNSFR</th>\n",
       "      <td>0.090548</td>\n",
       "    </tr>\n",
       "    <tr>\n",
       "      <th>HS_RANK_PCT</th>\n",
       "      <td>0.072847</td>\n",
       "    </tr>\n",
       "    <tr>\n",
       "      <th>CATALOG_NBR</th>\n",
       "      <td>0.071745</td>\n",
       "    </tr>\n",
       "    <tr>\n",
       "      <th>INSTRUCTION_MODE</th>\n",
       "      <td>0.036915</td>\n",
       "    </tr>\n",
       "    <tr>\n",
       "      <th>ACAD_PROG_SDESC</th>\n",
       "      <td>0.036081</td>\n",
       "    </tr>\n",
       "    <tr>\n",
       "      <th>ETHNIC_GROUP</th>\n",
       "      <td>0.034052</td>\n",
       "    </tr>\n",
       "    <tr>\n",
       "      <th>CITIZENSHIP_STATUS</th>\n",
       "      <td>0.025512</td>\n",
       "    </tr>\n",
       "    <tr>\n",
       "      <th>TERM</th>\n",
       "      <td>0.023463</td>\n",
       "    </tr>\n",
       "    <tr>\n",
       "      <th>REG_STA</th>\n",
       "      <td>0.022231</td>\n",
       "    </tr>\n",
       "    <tr>\n",
       "      <th>SEX</th>\n",
       "      <td>0.019502</td>\n",
       "    </tr>\n",
       "    <tr>\n",
       "      <th>TOTAL_SATR_SCORE</th>\n",
       "      <td>0.014420</td>\n",
       "    </tr>\n",
       "    <tr>\n",
       "      <th>TOTAL_SAT_SCORE</th>\n",
       "      <td>0.006774</td>\n",
       "    </tr>\n",
       "  </tbody>\n",
       "</table>\n",
       "</div>"
      ],
      "text/plain": [
       "                    importance\n",
       "time                  0.133469\n",
       "INITIAL_TIME          0.118352\n",
       "CHEM_SCORE            0.108135\n",
       "COMP_ACT_SCORE        0.093234\n",
       "INITIAL_SCORE         0.092719\n",
       "TOT_TRNSFR            0.090548\n",
       "HS_RANK_PCT           0.072847\n",
       "CATALOG_NBR           0.071745\n",
       "INSTRUCTION_MODE      0.036915\n",
       "ACAD_PROG_SDESC       0.036081\n",
       "ETHNIC_GROUP          0.034052\n",
       "CITIZENSHIP_STATUS    0.025512\n",
       "TERM                  0.023463\n",
       "REG_STA               0.022231\n",
       "SEX                   0.019502\n",
       "TOTAL_SATR_SCORE      0.014420\n",
       "TOTAL_SAT_SCORE       0.006774"
      ]
     },
     "execution_count": 21,
     "metadata": {},
     "output_type": "execute_result"
    }
   ],
   "source": [
    "### Feature Importance\n",
    "### reference https://towardsdatascience.com/running-random-forests-inspect-the-feature-importances-with-this-code-2b00dd72b92e\n",
    "feature_importances_test = pd.DataFrame(clf_final.best_estimator_.feature_importances_,\n",
    "                                   index = X_train.columns,\n",
    "                                    columns=['importance']).sort_values('importance',ascending=False)\n",
    "feature_importances_test\n"
   ]
  },
  {
   "cell_type": "markdown",
   "metadata": {},
   "source": [
    "## A Random Forest  model can identify whether students will be retained or not with ~99.79% accuracy"
   ]
  },
  {
   "cell_type": "code",
   "execution_count": 37,
   "metadata": {},
   "outputs": [],
   "source": [
    "### Checking for overfitting"
   ]
  },
  {
   "cell_type": "code",
   "execution_count": 38,
   "metadata": {},
   "outputs": [
    {
     "data": {
      "image/png": "[encoded data removed]",
      "text/plain": [
       "<matplotlib.figure.Figure at 0x1a23f10c18>"
      ]
     },
     "metadata": {},
     "output_type": "display_data"
    }
   ],
   "source": [
    "# Optimize decision tree and detect (potential) over-fitting\n",
    "# I will try maximum depths from 1 to 10\n",
    "complexity_values = range(1,50)\n",
    "\n",
    "# I need an empty list to hold my accuracies\n",
    "train_accuracies = []\n",
    "test_accuracies=[]\n",
    "\n",
    "# I will go through each complexity_value one at a time.\n",
    "for complexity_value in complexity_values:\n",
    "    # This will create an empty tree with a specific maximum depth (complexity)\n",
    "    clf = RandomForestClassifier(criterion=\"gini\", max_depth=complexity_value)\n",
    "    #clf = tree.DecisionTreeClassifier(criterion=\"gini\", max_depth=complexity_value,max_leaf_nodes  =2)\n",
    "    #clf = tree.DecisionTreeClassifier(criterion=\"gini\", max_depth=complexity_value,min_impurity_decrease=0.5)\n",
    "    X_train, X_test, y_train, y_test = train_test_split(x, y, test_size=0.3)\n",
    "    test_accuracies.append(clf.fit(X_train, y_train).score(X_test, y_test))\n",
    "    train_accuracies.append(clf.fit(X_train, y_train).score(X_train, y_train))\n",
    "    \n",
    "# We want to plot our results\n",
    "line1, =plt.plot(complexity_values, test_accuracies,label='test_accuracies')\n",
    "line2, =plt.plot(complexity_values, train_accuracies,label='train_accuracies')\n",
    "plt.xlabel(\"max_depth\")\n",
    "plt.ylabel(\"Accuracy\")\n",
    "plt.legend((line1, line2), ('test', 'train'))\n",
    "plt.show()"
   ]
  },
  {
   "cell_type": "code",
   "execution_count": null,
   "metadata": {},
   "outputs": [],
   "source": []
  }
 ],
 "metadata": {
  "kernelspec": {
   "display_name": "Python 3",
   "language": "python",
   "name": "python3"
  },
  "language_info": {
   "codemirror_mode": {
    "name": "ipython",
    "version": 3
   },
   "file_extension": ".py",
   "mimetype": "text/x-python",
   "name": "python",
   "nbconvert_exporter": "python",
   "pygments_lexer": "ipython3",
   "version": "3.6.4"
  }
 },
 "nbformat": 4,
 "nbformat_minor": 2
}
